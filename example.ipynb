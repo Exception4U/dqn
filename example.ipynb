{
 "cells": [
  {
   "cell_type": "code",
   "execution_count": 1,
   "metadata": {},
   "outputs": [
    {
     "name": "stderr",
     "output_type": "stream",
     "text": [
      "Using Theano backend.\n",
      "WARNING (theano.sandbox.cuda): The cuda backend is deprecated and will be removed in the next release (v0.10).  Please switch to the gpuarray backend. You can get more information about how to switch at this URL:\n",
      " https://github.com/Theano/Theano/wiki/Converting-to-the-new-gpu-back-end%28gpuarray%29\n",
      "\n",
      "[2017-09-17 20:46:57,045] The cuda backend is deprecated and will be removed in the next release (v0.10).  Please switch to the gpuarray backend. You can get more information about how to switch at this URL:\n",
      " https://github.com/Theano/Theano/wiki/Converting-to-the-new-gpu-back-end%28gpuarray%29\n",
      "\n",
      "Using gpu device 0: GeForce GTX TITAN X (CNMeM is enabled with initial size: 90.0% of memory, cuDNN 5110)\n",
      "[2017-09-17 20:46:59,168] Making new env: Breakout-v0\n"
     ]
    },
    {
     "name": "stdout",
     "output_type": "stream",
     "text": [
      "loading from Breakout-v0.h5\n",
      "total reward 1.0\n",
      "mean cost 0.00291057171691\n",
      "total reward 1.0\n",
      "mean cost 0.00310814579476\n",
      "total reward 3.0\n",
      "mean cost 0.00625695759625\n",
      "total reward 0.0\n",
      "mean cost 0.00422723007843\n",
      "total reward 2.0\n",
      "mean cost 0.00447539904554\n",
      "total reward 3.0\n",
      "mean cost 0.00518352342217\n",
      "total reward 1.0\n",
      "mean cost 0.00459060714442\n",
      "total reward 1.0\n",
      "mean cost 0.0046599363381\n",
      "total reward 4.0\n",
      "mean cost 0.00494734285549\n",
      "total reward 1.0\n",
      "mean cost 0.00558243680589\n",
      "total reward 0.0\n",
      "mean cost 0.00463410314044\n",
      "total reward 0.0\n",
      "mean cost 0.00365659068905\n",
      "total reward 0.0\n",
      "mean cost 0.00350479622966\n",
      "total reward 0.0\n",
      "mean cost 0.00263663780983\n",
      "total reward 2.0\n",
      "mean cost 0.00334027672834\n",
      "total reward 1.0\n",
      "mean cost 0.0039701055046\n",
      "total reward 1.0\n",
      "mean cost 0.00396751023804\n",
      "total reward 0.0\n",
      "mean cost 0.00321333769275\n",
      "total reward 2.0\n",
      "mean cost 0.00365583730448\n",
      "total reward 0.0\n",
      "mean cost 0.00320335417173\n"
     ]
    }
   ],
   "source": [
    "import sys\n",
    "import gym\n",
    "from dqn import Agent\n",
    "\n",
    "num_episodes = 20\n",
    "\n",
    "# env_name = \"MsPacman-v0\"\n",
    "env_name = \"Breakout-v0\"\n",
    "env = gym.make(env_name)\n",
    "\n",
    "agent = Agent(state_size=env.observation_space.shape,\n",
    "              number_of_actions=env.action_space.n,\n",
    "              save_name=env_name)\n",
    "\n",
    "for e in xrange(num_episodes):\n",
    "    observation = env.reset()\n",
    "    done = False\n",
    "    agent.new_episode()\n",
    "    total_cost = 0.0\n",
    "    total_reward = 0.0\n",
    "    frame = 0\n",
    "    while not done:\n",
    "        frame += 1\n",
    "        #env.render()\n",
    "        action, values = agent.act(observation)\n",
    "        #action = env.action_space.sample()\n",
    "        observation, reward, done, info = env.step(action)\n",
    "        total_cost += agent.observe(reward)\n",
    "        total_reward += reward\n",
    "    print \"total reward\", total_reward\n",
    "    print \"mean cost\", total_cost/frame\n"
   ]
  },
  {
   "cell_type": "code",
   "execution_count": null,
   "metadata": {},
   "outputs": [
    {
     "data": {
      "image/png": "[encoded data removed]",
      "text/plain": [
       "<matplotlib.figure.Figure at 0x7f990498c750>"
      ]
     },
     "metadata": {},
     "output_type": "display_data"
    }
   ],
   "source": [
    "from IPython import display\n",
    "import matplotlib\n",
    "import matplotlib.pyplot as plt\n",
    "%matplotlib inline\n",
    "\n",
    "for episode in xrange(10):\n",
    "    env.reset()\n",
    "    img = plt.imshow(env.render(mode='rgb_array')) # only call this once\n",
    "    for _ in xrange(10000):\n",
    "        img.set_data(env.render(mode='rgb_array')) # just update the data\n",
    "        display.display(plt.gcf())\n",
    "        display.clear_output(wait=True)\n",
    "#         action = env.action_space.sample()\n",
    "        action, values = agent.act(observation)\n",
    "        observation, reward, done, info = env.step(action)\n",
    "#         if reward>0:\n",
    "#             cumulatesRewards.append(reward)\n",
    "#         if done:\n",
    "#             break"
   ]
  },
  {
   "cell_type": "code",
   "execution_count": null,
   "metadata": {
    "collapsed": true
   },
   "outputs": [],
   "source": []
  }
 ],
 "metadata": {
  "kernelspec": {
   "display_name": "Python 2",
   "language": "python",
   "name": "python2"
  },
  "language_info": {
   "codemirror_mode": {
    "name": "ipython",
    "version": 2
   },
   "file_extension": ".py",
   "mimetype": "text/x-python",
   "name": "python",
   "nbconvert_exporter": "python",
   "pygments_lexer": "ipython2",
   "version": "2.7.6"
  }
 },
 "nbformat": 4,
 "nbformat_minor": 2
}
